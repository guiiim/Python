{
 "cells": [
  {
   "cell_type": "markdown",
   "id": "dc8c768e",
   "metadata": {},
   "source": [
    "# Estudo Random Forest"
   ]
  },
  {
   "cell_type": "markdown",
   "id": "42454627",
   "metadata": {},
   "source": [
    "Estudo de algoritmos de Decision Tree e Random Forest"
   ]
  },
  {
   "cell_type": "markdown",
   "id": "ed15a9ee",
   "metadata": {},
   "source": [
    "## Decision Tree"
   ]
  },
  {
   "cell_type": "code",
   "execution_count": 1,
   "id": "f81db477",
   "metadata": {},
   "outputs": [],
   "source": [
    "#Importa bibliotecas\n",
    "import numpy as np\n",
    "import pandas as pd\n",
    "import sklearn as sk\n",
    "from matplotlib import pyplot as plt\n",
    "from sklearn.tree import DecisionTreeClassifier\n",
    "from sklearn.model_selection import train_test_split\n",
    "from sklearn.metrics import confusion_matrix\n",
    "from sklearn.metrics import accuracy_score\n",
    "import warnings\n",
    "warnings.simplefilter(action='ignore', category=FutureWarning)"
   ]
  },
  {
   "cell_type": "code",
   "execution_count": 2,
   "id": "861bdde8",
   "metadata": {},
   "outputs": [],
   "source": [
    "#Carrega o dataset\n",
    "irisData = pd.read_csv(\"iris_data.csv\")"
   ]
  },
  {
   "cell_type": "markdown",
   "id": "32a293ee",
   "metadata": {},
   "source": [
    "#### EDA"
   ]
  },
  {
   "cell_type": "code",
   "execution_count": 3,
   "id": "a03ed38f",
   "metadata": {
    "scrolled": true
   },
   "outputs": [
    {
     "data": {
      "text/html": [
       "<div>\n",
       "<style scoped>\n",
       "    .dataframe tbody tr th:only-of-type {\n",
       "        vertical-align: middle;\n",
       "    }\n",
       "\n",
       "    .dataframe tbody tr th {\n",
       "        vertical-align: top;\n",
       "    }\n",
       "\n",
       "    .dataframe thead th {\n",
       "        text-align: right;\n",
       "    }\n",
       "</style>\n",
       "<table border=\"1\" class=\"dataframe\">\n",
       "  <thead>\n",
       "    <tr style=\"text-align: right;\">\n",
       "      <th></th>\n",
       "      <th>SepalLength</th>\n",
       "      <th>SepalWidth</th>\n",
       "      <th>PetalLength</th>\n",
       "      <th>PetalWidth</th>\n",
       "    </tr>\n",
       "  </thead>\n",
       "  <tbody>\n",
       "    <tr>\n",
       "      <th>count</th>\n",
       "      <td>150.000000</td>\n",
       "      <td>150.000000</td>\n",
       "      <td>150.000000</td>\n",
       "      <td>150.000000</td>\n",
       "    </tr>\n",
       "    <tr>\n",
       "      <th>mean</th>\n",
       "      <td>5.843333</td>\n",
       "      <td>3.054000</td>\n",
       "      <td>3.758667</td>\n",
       "      <td>1.198667</td>\n",
       "    </tr>\n",
       "    <tr>\n",
       "      <th>std</th>\n",
       "      <td>0.828066</td>\n",
       "      <td>0.433594</td>\n",
       "      <td>1.764420</td>\n",
       "      <td>0.763161</td>\n",
       "    </tr>\n",
       "    <tr>\n",
       "      <th>min</th>\n",
       "      <td>4.300000</td>\n",
       "      <td>2.000000</td>\n",
       "      <td>1.000000</td>\n",
       "      <td>0.100000</td>\n",
       "    </tr>\n",
       "    <tr>\n",
       "      <th>25%</th>\n",
       "      <td>5.100000</td>\n",
       "      <td>2.800000</td>\n",
       "      <td>1.600000</td>\n",
       "      <td>0.300000</td>\n",
       "    </tr>\n",
       "    <tr>\n",
       "      <th>50%</th>\n",
       "      <td>5.800000</td>\n",
       "      <td>3.000000</td>\n",
       "      <td>4.350000</td>\n",
       "      <td>1.300000</td>\n",
       "    </tr>\n",
       "    <tr>\n",
       "      <th>75%</th>\n",
       "      <td>6.400000</td>\n",
       "      <td>3.300000</td>\n",
       "      <td>5.100000</td>\n",
       "      <td>1.800000</td>\n",
       "    </tr>\n",
       "    <tr>\n",
       "      <th>max</th>\n",
       "      <td>7.900000</td>\n",
       "      <td>4.400000</td>\n",
       "      <td>6.900000</td>\n",
       "      <td>2.500000</td>\n",
       "    </tr>\n",
       "  </tbody>\n",
       "</table>\n",
       "</div>"
      ],
      "text/plain": [
       "       SepalLength  SepalWidth  PetalLength  PetalWidth\n",
       "count   150.000000  150.000000   150.000000  150.000000\n",
       "mean      5.843333    3.054000     3.758667    1.198667\n",
       "std       0.828066    0.433594     1.764420    0.763161\n",
       "min       4.300000    2.000000     1.000000    0.100000\n",
       "25%       5.100000    2.800000     1.600000    0.300000\n",
       "50%       5.800000    3.000000     4.350000    1.300000\n",
       "75%       6.400000    3.300000     5.100000    1.800000\n",
       "max       7.900000    4.400000     6.900000    2.500000"
      ]
     },
     "execution_count": 3,
     "metadata": {},
     "output_type": "execute_result"
    }
   ],
   "source": [
    "#Verifica dados básicos do dataset\n",
    "irisData.describe()"
   ]
  },
  {
   "cell_type": "code",
   "execution_count": 4,
   "id": "d3a19ed7",
   "metadata": {},
   "outputs": [
    {
     "name": "stdout",
     "output_type": "stream",
     "text": [
      "   SepalLength  SepalWidth  PetalLength  PetalWidth        Class\n",
      "0          5.1         3.5          1.4         0.2  Iris-setosa\n",
      "1          4.9         3.0          1.4         0.2  Iris-setosa\n",
      "2          4.7         3.2          1.3         0.2  Iris-setosa\n",
      "3          4.6         3.1          1.5         0.2  Iris-setosa\n",
      "4          5.0         3.6          1.4         0.2  Iris-setosa\n"
     ]
    }
   ],
   "source": [
    "#Verifica os dados das primeiras linhas\n",
    "print(irisData.head())"
   ]
  },
  {
   "cell_type": "code",
   "execution_count": 5,
   "id": "2960712c",
   "metadata": {},
   "outputs": [
    {
     "name": "stdout",
     "output_type": "stream",
     "text": [
      "             SepalLength  SepalWidth  PetalLength  PetalWidth\n",
      "SepalLength     1.000000   -0.109369     0.871754    0.817954\n",
      "SepalWidth     -0.109369    1.000000    -0.420516   -0.356544\n",
      "PetalLength     0.871754   -0.420516     1.000000    0.962757\n",
      "PetalWidth      0.817954   -0.356544     0.962757    1.000000\n"
     ]
    }
   ],
   "source": [
    "#Verifica correlação dos dados\n",
    "print(irisData.corr())"
   ]
  },
  {
   "cell_type": "markdown",
   "id": "9b3d3ed6",
   "metadata": {},
   "source": [
    "#### Preparação dos dados para criar modelo"
   ]
  },
  {
   "cell_type": "code",
   "execution_count": 6,
   "id": "cc3fad4f",
   "metadata": {},
   "outputs": [],
   "source": [
    "#Separa os atributos do target\n",
    "features = irisData[[\"SepalLength\",\"SepalWidth\",\"PetalLength\",\"PetalWidth\"]]\n",
    "targetVariables = irisData.Class"
   ]
  },
  {
   "cell_type": "code",
   "execution_count": 7,
   "id": "8f665df7",
   "metadata": {},
   "outputs": [],
   "source": [
    "#Separa os dados em treino e teste\n",
    "featureTrain, featureTest, targetTrain, targetTest = train_test_split(features, \n",
    "                                                                      targetVariables, \n",
    "                                                                      test_size = .2)"
   ]
  },
  {
   "cell_type": "code",
   "execution_count": 8,
   "id": "a95443df",
   "metadata": {},
   "outputs": [],
   "source": [
    "#Cria o modelo de Decision Tree com o critério Gini de classificação\n",
    "clf = DecisionTreeClassifier(criterion='gini')"
   ]
  },
  {
   "cell_type": "markdown",
   "id": "13c29257",
   "metadata": {},
   "source": [
    "Quando usado o critério Gini, o modelo irá medir a probabilidade de dois itens pertencerem à mesma classe, somando os quadrados das proporções das classes.\n",
    "\n",
    "O Índice de Gini diz: se selecionarmos dois itens de uma população aleatoriamente, então eles devem ser da mesma classe e a probabilidade para isto é 1 se a população é pura."
   ]
  },
  {
   "cell_type": "code",
   "execution_count": 9,
   "id": "4c47ab2e",
   "metadata": {},
   "outputs": [],
   "source": [
    "#Treina o modelo\n",
    "modelo = clf.fit(featureTrain, targetTrain)"
   ]
  },
  {
   "cell_type": "code",
   "execution_count": 10,
   "id": "74fc3f13",
   "metadata": {},
   "outputs": [],
   "source": [
    "#Executa predições com os dados de teste\n",
    "previsoes = modelo.predict(featureTest)"
   ]
  },
  {
   "cell_type": "code",
   "execution_count": 11,
   "id": "8b1a2c62",
   "metadata": {},
   "outputs": [
    {
     "name": "stdout",
     "output_type": "stream",
     "text": [
      "1.0\n"
     ]
    }
   ],
   "source": [
    "#Verifica a acurácia do modelo\n",
    "print (accuracy_score(targetTest, previsoes))"
   ]
  },
  {
   "cell_type": "code",
   "execution_count": 12,
   "id": "7b56ae9b",
   "metadata": {},
   "outputs": [],
   "source": [
    "#Cria o modelo de Decision Tree com o critério Entropy de classificação\n",
    "clf2 = DecisionTreeClassifier(criterion='entropy')"
   ]
  },
  {
   "cell_type": "markdown",
   "id": "4146a7ff",
   "metadata": {},
   "source": [
    "O critério \"Entropy\" é aplicado para verificar o ganho de redução da incerteza dos dados entre a sua escolha.\n",
    "Entropia = medida de incerteza; Ganho = redução da Entropia\n",
    "\n",
    "Quando usado, o modelo irá verificar qual atributo tem o ganho mais alto de informação em cada nó, escolhendo sempre o nó com o ganho mais alto."
   ]
  },
  {
   "cell_type": "code",
   "execution_count": 13,
   "id": "59a47224",
   "metadata": {},
   "outputs": [],
   "source": [
    "#Treina o modelo\n",
    "modelo2 = clf2.fit(featureTrain, targetTrain)"
   ]
  },
  {
   "cell_type": "code",
   "execution_count": 14,
   "id": "e4d43fa7",
   "metadata": {},
   "outputs": [],
   "source": [
    "#Executa predições com os dados de teste\n",
    "previsoes2 = modelo2.predict(featureTest)"
   ]
  },
  {
   "cell_type": "code",
   "execution_count": 15,
   "id": "d591ac95",
   "metadata": {},
   "outputs": [
    {
     "name": "stdout",
     "output_type": "stream",
     "text": [
      "1.0\n"
     ]
    }
   ],
   "source": [
    "#Verifica a acurácia do modelo\n",
    "print (accuracy_score(targetTest, previsoes2))"
   ]
  },
  {
   "cell_type": "markdown",
   "id": "ed79fa07",
   "metadata": {},
   "source": [
    "## Testando com outro dataset"
   ]
  },
  {
   "cell_type": "code",
   "execution_count": 16,
   "id": "aaf700c5",
   "metadata": {},
   "outputs": [],
   "source": [
    "#Carrega o dataset de digitos\n",
    "from sklearn.preprocessing import scale\n",
    "from sklearn.datasets import load_digits\n",
    "digitos = load_digits()\n",
    "data = scale(digitos.data)"
   ]
  },
  {
   "cell_type": "code",
   "execution_count": 17,
   "id": "9971fe51",
   "metadata": {},
   "outputs": [],
   "source": [
    "#Obtem a \"resposta\" das observações\n",
    "n_digits = len(np.unique(digitos.target))\n",
    "labels = digitos.target"
   ]
  },
  {
   "cell_type": "code",
   "execution_count": 18,
   "id": "c39222f6",
   "metadata": {},
   "outputs": [],
   "source": [
    "#Cria o modelo com o critério Gini de classificação\n",
    "from sklearn.ensemble import RandomForestClassifier\n",
    "clfGini = RandomForestClassifier(criterion='gini')"
   ]
  },
  {
   "cell_type": "code",
   "execution_count": 19,
   "id": "2fda6e57",
   "metadata": {},
   "outputs": [],
   "source": [
    "#Treina o modelo\n",
    "clfGini = clfGini.fit(data, labels)"
   ]
  },
  {
   "cell_type": "code",
   "execution_count": 20,
   "id": "f7cff309",
   "metadata": {},
   "outputs": [
    {
     "name": "stdout",
     "output_type": "stream",
     "text": [
      "1.0\n"
     ]
    }
   ],
   "source": [
    "#Verifica o score do modelo\n",
    "print(clfGini.score(data,labels))"
   ]
  },
  {
   "cell_type": "code",
   "execution_count": 21,
   "id": "c59801d6",
   "metadata": {},
   "outputs": [],
   "source": [
    "#Altera o parâmetro do modelo de número de árvores\n",
    "#Default = 100, alterado para 10\n",
    "clfGini2 = RandomForestClassifier(n_estimators  = 10, criterion='gini')"
   ]
  },
  {
   "cell_type": "code",
   "execution_count": 22,
   "id": "5ac0278d",
   "metadata": {},
   "outputs": [],
   "source": [
    "#Treina o modelo novamente\n",
    "clfGini2 = clfGini2.fit(data, labels)"
   ]
  },
  {
   "cell_type": "code",
   "execution_count": 23,
   "id": "5b05d6be",
   "metadata": {},
   "outputs": [
    {
     "name": "stdout",
     "output_type": "stream",
     "text": [
      "1.0\n"
     ]
    }
   ],
   "source": [
    "#Verifica o score do modelo com novos parâmetros\n",
    "print(clfGini2.score(data,labels))"
   ]
  },
  {
   "cell_type": "code",
   "execution_count": 24,
   "id": "e6a6ef49",
   "metadata": {},
   "outputs": [],
   "source": [
    "#Cria o modelo com o critério Entropy de classificação\n",
    "clfEntr = RandomForestClassifier(criterion='entropy')"
   ]
  },
  {
   "cell_type": "code",
   "execution_count": 25,
   "id": "893849f1",
   "metadata": {},
   "outputs": [],
   "source": [
    "#Treina o modelo\n",
    "clfEntr = clfEntr.fit(data, labels)"
   ]
  },
  {
   "cell_type": "code",
   "execution_count": 26,
   "id": "1bac88b9",
   "metadata": {},
   "outputs": [
    {
     "name": "stdout",
     "output_type": "stream",
     "text": [
      "1.0\n"
     ]
    }
   ],
   "source": [
    "#Verifica o score do modelo\n",
    "print(clfEntr.score(data,labels))"
   ]
  },
  {
   "cell_type": "code",
   "execution_count": 27,
   "id": "289e27d8",
   "metadata": {},
   "outputs": [],
   "source": [
    "#Altera o parâmetro do modelo de número de árvores\n",
    "#Default = 100, alterado para 10\n",
    "clfEntr2 = RandomForestClassifier(n_estimators  = 10, criterion='entropy')"
   ]
  },
  {
   "cell_type": "code",
   "execution_count": 28,
   "id": "c0befcb1",
   "metadata": {},
   "outputs": [],
   "source": [
    "#Treina o modelo novamente\n",
    "clfEntr2 = clfEntr2.fit(data, labels)"
   ]
  },
  {
   "cell_type": "code",
   "execution_count": 29,
   "id": "c1efc31c",
   "metadata": {},
   "outputs": [
    {
     "name": "stdout",
     "output_type": "stream",
     "text": [
      "0.9988870339454646\n"
     ]
    }
   ],
   "source": [
    "#Verifica o score do modelo com novos parâmetros\n",
    "print(clfEntr2.score(data,labels))"
   ]
  },
  {
   "cell_type": "markdown",
   "id": "bbe3ba02",
   "metadata": {},
   "source": [
    "##### Compara o resultado dos modelos"
   ]
  },
  {
   "cell_type": "code",
   "execution_count": 30,
   "id": "3dac91e4",
   "metadata": {},
   "outputs": [
    {
     "name": "stdout",
     "output_type": "stream",
     "text": [
      "Modelo com critério Gini e número de árvores default (1000):  1.0\n",
      "Modelo com critério Gini e número de árvores em 10:  1.0\n",
      "Modelo com critério Entropy e número de árvores default (1000):  1.0\n",
      "Modelo com critério Entropy e número de árvores em 10:  0.9988870339454646\n"
     ]
    }
   ],
   "source": [
    "print(\"Modelo com critério Gini e número de árvores default (1000): \", clfGini.score(data,labels))\n",
    "print(\"Modelo com critério Gini e número de árvores em 10: \", clfGini2.score(data,labels))\n",
    "print(\"Modelo com critério Entropy e número de árvores default (1000): \", clfEntr.score(data,labels))\n",
    "print(\"Modelo com critério Entropy e número de árvores em 10: \", clfEntr2.score(data,labels))"
   ]
  },
  {
   "cell_type": "markdown",
   "id": "181d04fa",
   "metadata": {},
   "source": [
    "Comparando os resultados, podemos perceber a diferença de resultado entre os critérios de avaliação (Gini e Entropy), e a diferença quando alterado os parâmetros de número de árvores dentro de cada modelo."
   ]
  }
 ],
 "metadata": {
  "kernelspec": {
   "display_name": "Python 3 (ipykernel)",
   "language": "python",
   "name": "python3"
  },
  "language_info": {
   "codemirror_mode": {
    "name": "ipython",
    "version": 3
   },
   "file_extension": ".py",
   "mimetype": "text/x-python",
   "name": "python",
   "nbconvert_exporter": "python",
   "pygments_lexer": "ipython3",
   "version": "3.9.7"
  }
 },
 "nbformat": 4,
 "nbformat_minor": 5
}
