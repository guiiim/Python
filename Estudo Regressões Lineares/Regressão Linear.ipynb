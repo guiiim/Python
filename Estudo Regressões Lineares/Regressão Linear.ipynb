{
 "cells": [
  {
   "cell_type": "markdown",
   "id": "4fe21345",
   "metadata": {},
   "source": [
    "# Regressão Linear Simples"
   ]
  },
  {
   "cell_type": "markdown",
   "id": "5096f25a",
   "metadata": {},
   "source": [
    "### Definindo o Problema de Negócio\n",
    "\n",
    "Nosso objetivo é construir um modelo de Machine Learning que seja capaz de fazer previsões sobre a taxa média de ocupação de casas na região de Boston, EUA, por proprietários. A variável a ser prevista é um valor numérico que representa a mediana da taxa de ocupação das casas em Boston. Para cada casa temos diversas variáveis explanatórias. Sendo assim, podemos resolver este problema empregando Regressão Linear Simples ou Múltipla.\n",
    "\n",
    "### Definindo o Dataset\n",
    "\n",
    "Usaremos o Boston Housing Dataset, que é um conjunto de dados que tem a taxa média de ocupação das casas, juntamente com outras 13 variáveis que podem estar relacionadas aos preços das casas. Esses são os fatores como condições socioeconômicas, condições ambientais, instalações educacionais e alguns outros fatores semelhantes. Existem 506 observações nos dados para 14 variáveis. Existem 12 variáveis numéricas em nosso conjunto de dados e 1 variável categórica. O objetivo deste projeto é construir um modelo de regressão linear para estimar a taxa média de ocupação das casas pelos proprietários em Boston."
   ]
  },
  {
   "cell_type": "markdown",
   "id": "d196cc93",
   "metadata": {},
   "source": [
    "#### Estudo realizado durante o capítulo 5 do curso de Machine Learning da Formação Cientista de Dados da Data Science Academy - https://www.datascienceacademy.com.br/"
   ]
  },
  {
   "cell_type": "markdown",
   "id": "60d5b74f",
   "metadata": {},
   "source": [
    "# Carregando dados e bibliotecas"
   ]
  },
  {
   "cell_type": "code",
   "execution_count": 1,
   "id": "e367cd35",
   "metadata": {},
   "outputs": [],
   "source": [
    "#Carregando dataset\n",
    "from sklearn.datasets import load_boston\n",
    "boston = load_boston()"
   ]
  },
  {
   "cell_type": "markdown",
   "id": "339f29e9",
   "metadata": {},
   "source": [
    "Dataset: https://archive.ics.uci.edu/ml/machine-learning-databases/housing/\n",
    "\n",
    "1. CRIM: per capita crime rate by town\n",
    "2. ZN: proportion of residential land zoned for lots over 25,000 sq.ft.\n",
    "3. INDUS: proportion of non-retail business acres per town\n",
    "4. CHAS: Charles River dummy variable (= 1 if tract bounds river; 0 otherwise)\n",
    "5. NOX: nitric oxides concentration (parts per 10 million)\n",
    "6. RM: average number of rooms per dwelling\n",
    "7. AGE: proportion of owner-occupied units built prior to 1940\n",
    "8. DIS: weighted distances to five Boston employment centres\n",
    "9. RAD: index of accessibility to radial highways\n",
    "10. TAX: full-value property-tax rate per 10,000\n",
    "11. PTRATIO: pupil-teacher ratio by town\n",
    "12. B: 1000(Bk - 0.63)^2 where Bk is the proportion of blacks by town\n",
    "13. LSTAT: % lower status of the population\n",
    "14. TARGET: Median value of owner-occupied homes in $1000's"
   ]
  },
  {
   "cell_type": "code",
   "execution_count": 2,
   "id": "def6fe64",
   "metadata": {},
   "outputs": [],
   "source": [
    "#Importa bibliotecas\n",
    "import numpy as np\n",
    "import pandas as pd\n",
    "import matplotlib.pyplot as plt\n",
    "import matplotlib as mpl\n",
    "%matplotlib inline\n",
    "\n",
    "import warnings\n",
    "warnings.filterwarnings(\"ignore\")"
   ]
  },
  {
   "cell_type": "markdown",
   "id": "bb53f0f5",
   "metadata": {},
   "source": [
    "# Análise Exploratória"
   ]
  },
  {
   "cell_type": "code",
   "execution_count": 3,
   "id": "e82bb0ed",
   "metadata": {},
   "outputs": [],
   "source": [
    "#Carregando dados para DF\n",
    "dataset = pd.DataFrame(boston.data, columns = boston.feature_names)\n",
    "dataset['target'] = boston.target"
   ]
  },
  {
   "cell_type": "markdown",
   "id": "de1f6ba8",
   "metadata": {},
   "source": [
    "Verificando primeiros dados"
   ]
  },
  {
   "cell_type": "code",
   "execution_count": 4,
   "id": "27210a5e",
   "metadata": {},
   "outputs": [
    {
     "data": {
      "text/html": [
       "<div>\n",
       "<style scoped>\n",
       "    .dataframe tbody tr th:only-of-type {\n",
       "        vertical-align: middle;\n",
       "    }\n",
       "\n",
       "    .dataframe tbody tr th {\n",
       "        vertical-align: top;\n",
       "    }\n",
       "\n",
       "    .dataframe thead th {\n",
       "        text-align: right;\n",
       "    }\n",
       "</style>\n",
       "<table border=\"1\" class=\"dataframe\">\n",
       "  <thead>\n",
       "    <tr style=\"text-align: right;\">\n",
       "      <th></th>\n",
       "      <th>CRIM</th>\n",
       "      <th>ZN</th>\n",
       "      <th>INDUS</th>\n",
       "      <th>CHAS</th>\n",
       "      <th>NOX</th>\n",
       "      <th>RM</th>\n",
       "      <th>AGE</th>\n",
       "      <th>DIS</th>\n",
       "      <th>RAD</th>\n",
       "      <th>TAX</th>\n",
       "      <th>PTRATIO</th>\n",
       "      <th>B</th>\n",
       "      <th>LSTAT</th>\n",
       "      <th>target</th>\n",
       "    </tr>\n",
       "  </thead>\n",
       "  <tbody>\n",
       "    <tr>\n",
       "      <th>0</th>\n",
       "      <td>0.00632</td>\n",
       "      <td>18.0</td>\n",
       "      <td>2.31</td>\n",
       "      <td>0.0</td>\n",
       "      <td>0.538</td>\n",
       "      <td>6.575</td>\n",
       "      <td>65.2</td>\n",
       "      <td>4.0900</td>\n",
       "      <td>1.0</td>\n",
       "      <td>296.0</td>\n",
       "      <td>15.3</td>\n",
       "      <td>396.90</td>\n",
       "      <td>4.98</td>\n",
       "      <td>24.0</td>\n",
       "    </tr>\n",
       "    <tr>\n",
       "      <th>1</th>\n",
       "      <td>0.02731</td>\n",
       "      <td>0.0</td>\n",
       "      <td>7.07</td>\n",
       "      <td>0.0</td>\n",
       "      <td>0.469</td>\n",
       "      <td>6.421</td>\n",
       "      <td>78.9</td>\n",
       "      <td>4.9671</td>\n",
       "      <td>2.0</td>\n",
       "      <td>242.0</td>\n",
       "      <td>17.8</td>\n",
       "      <td>396.90</td>\n",
       "      <td>9.14</td>\n",
       "      <td>21.6</td>\n",
       "    </tr>\n",
       "    <tr>\n",
       "      <th>2</th>\n",
       "      <td>0.02729</td>\n",
       "      <td>0.0</td>\n",
       "      <td>7.07</td>\n",
       "      <td>0.0</td>\n",
       "      <td>0.469</td>\n",
       "      <td>7.185</td>\n",
       "      <td>61.1</td>\n",
       "      <td>4.9671</td>\n",
       "      <td>2.0</td>\n",
       "      <td>242.0</td>\n",
       "      <td>17.8</td>\n",
       "      <td>392.83</td>\n",
       "      <td>4.03</td>\n",
       "      <td>34.7</td>\n",
       "    </tr>\n",
       "    <tr>\n",
       "      <th>3</th>\n",
       "      <td>0.03237</td>\n",
       "      <td>0.0</td>\n",
       "      <td>2.18</td>\n",
       "      <td>0.0</td>\n",
       "      <td>0.458</td>\n",
       "      <td>6.998</td>\n",
       "      <td>45.8</td>\n",
       "      <td>6.0622</td>\n",
       "      <td>3.0</td>\n",
       "      <td>222.0</td>\n",
       "      <td>18.7</td>\n",
       "      <td>394.63</td>\n",
       "      <td>2.94</td>\n",
       "      <td>33.4</td>\n",
       "    </tr>\n",
       "    <tr>\n",
       "      <th>4</th>\n",
       "      <td>0.06905</td>\n",
       "      <td>0.0</td>\n",
       "      <td>2.18</td>\n",
       "      <td>0.0</td>\n",
       "      <td>0.458</td>\n",
       "      <td>7.147</td>\n",
       "      <td>54.2</td>\n",
       "      <td>6.0622</td>\n",
       "      <td>3.0</td>\n",
       "      <td>222.0</td>\n",
       "      <td>18.7</td>\n",
       "      <td>396.90</td>\n",
       "      <td>5.33</td>\n",
       "      <td>36.2</td>\n",
       "    </tr>\n",
       "  </tbody>\n",
       "</table>\n",
       "</div>"
      ],
      "text/plain": [
       "      CRIM    ZN  INDUS  CHAS    NOX     RM   AGE     DIS  RAD    TAX  \\\n",
       "0  0.00632  18.0   2.31   0.0  0.538  6.575  65.2  4.0900  1.0  296.0   \n",
       "1  0.02731   0.0   7.07   0.0  0.469  6.421  78.9  4.9671  2.0  242.0   \n",
       "2  0.02729   0.0   7.07   0.0  0.469  7.185  61.1  4.9671  2.0  242.0   \n",
       "3  0.03237   0.0   2.18   0.0  0.458  6.998  45.8  6.0622  3.0  222.0   \n",
       "4  0.06905   0.0   2.18   0.0  0.458  7.147  54.2  6.0622  3.0  222.0   \n",
       "\n",
       "   PTRATIO       B  LSTAT  target  \n",
       "0     15.3  396.90   4.98    24.0  \n",
       "1     17.8  396.90   9.14    21.6  \n",
       "2     17.8  392.83   4.03    34.7  \n",
       "3     18.7  394.63   2.94    33.4  \n",
       "4     18.7  396.90   5.33    36.2  "
      ]
     },
     "execution_count": 4,
     "metadata": {},
     "output_type": "execute_result"
    }
   ],
   "source": [
    "dataset.head()"
   ]
  },
  {
   "cell_type": "markdown",
   "id": "df233fb9",
   "metadata": {},
   "source": [
    "Verificando comportamento das categorias"
   ]
  },
  {
   "cell_type": "code",
   "execution_count": 5,
   "id": "130f0376",
   "metadata": {},
   "outputs": [
    {
     "data": {
      "text/html": [
       "<div>\n",
       "<style scoped>\n",
       "    .dataframe tbody tr th:only-of-type {\n",
       "        vertical-align: middle;\n",
       "    }\n",
       "\n",
       "    .dataframe tbody tr th {\n",
       "        vertical-align: top;\n",
       "    }\n",
       "\n",
       "    .dataframe thead th {\n",
       "        text-align: right;\n",
       "    }\n",
       "</style>\n",
       "<table border=\"1\" class=\"dataframe\">\n",
       "  <thead>\n",
       "    <tr style=\"text-align: right;\">\n",
       "      <th></th>\n",
       "      <th>CRIM</th>\n",
       "      <th>ZN</th>\n",
       "      <th>INDUS</th>\n",
       "      <th>CHAS</th>\n",
       "      <th>NOX</th>\n",
       "      <th>RM</th>\n",
       "      <th>AGE</th>\n",
       "      <th>DIS</th>\n",
       "      <th>RAD</th>\n",
       "      <th>TAX</th>\n",
       "      <th>PTRATIO</th>\n",
       "      <th>B</th>\n",
       "      <th>LSTAT</th>\n",
       "      <th>target</th>\n",
       "    </tr>\n",
       "  </thead>\n",
       "  <tbody>\n",
       "    <tr>\n",
       "      <th>count</th>\n",
       "      <td>506.000000</td>\n",
       "      <td>506.000000</td>\n",
       "      <td>506.000000</td>\n",
       "      <td>506.000000</td>\n",
       "      <td>506.000000</td>\n",
       "      <td>506.000000</td>\n",
       "      <td>506.000000</td>\n",
       "      <td>506.000000</td>\n",
       "      <td>506.000000</td>\n",
       "      <td>506.000000</td>\n",
       "      <td>506.000000</td>\n",
       "      <td>506.000000</td>\n",
       "      <td>506.000000</td>\n",
       "      <td>506.000000</td>\n",
       "    </tr>\n",
       "    <tr>\n",
       "      <th>mean</th>\n",
       "      <td>3.613524</td>\n",
       "      <td>11.363636</td>\n",
       "      <td>11.136779</td>\n",
       "      <td>0.069170</td>\n",
       "      <td>0.554695</td>\n",
       "      <td>6.284634</td>\n",
       "      <td>68.574901</td>\n",
       "      <td>3.795043</td>\n",
       "      <td>9.549407</td>\n",
       "      <td>408.237154</td>\n",
       "      <td>18.455534</td>\n",
       "      <td>356.674032</td>\n",
       "      <td>12.653063</td>\n",
       "      <td>22.532806</td>\n",
       "    </tr>\n",
       "    <tr>\n",
       "      <th>std</th>\n",
       "      <td>8.601545</td>\n",
       "      <td>23.322453</td>\n",
       "      <td>6.860353</td>\n",
       "      <td>0.253994</td>\n",
       "      <td>0.115878</td>\n",
       "      <td>0.702617</td>\n",
       "      <td>28.148861</td>\n",
       "      <td>2.105710</td>\n",
       "      <td>8.707259</td>\n",
       "      <td>168.537116</td>\n",
       "      <td>2.164946</td>\n",
       "      <td>91.294864</td>\n",
       "      <td>7.141062</td>\n",
       "      <td>9.197104</td>\n",
       "    </tr>\n",
       "    <tr>\n",
       "      <th>min</th>\n",
       "      <td>0.006320</td>\n",
       "      <td>0.000000</td>\n",
       "      <td>0.460000</td>\n",
       "      <td>0.000000</td>\n",
       "      <td>0.385000</td>\n",
       "      <td>3.561000</td>\n",
       "      <td>2.900000</td>\n",
       "      <td>1.129600</td>\n",
       "      <td>1.000000</td>\n",
       "      <td>187.000000</td>\n",
       "      <td>12.600000</td>\n",
       "      <td>0.320000</td>\n",
       "      <td>1.730000</td>\n",
       "      <td>5.000000</td>\n",
       "    </tr>\n",
       "    <tr>\n",
       "      <th>25%</th>\n",
       "      <td>0.082045</td>\n",
       "      <td>0.000000</td>\n",
       "      <td>5.190000</td>\n",
       "      <td>0.000000</td>\n",
       "      <td>0.449000</td>\n",
       "      <td>5.885500</td>\n",
       "      <td>45.025000</td>\n",
       "      <td>2.100175</td>\n",
       "      <td>4.000000</td>\n",
       "      <td>279.000000</td>\n",
       "      <td>17.400000</td>\n",
       "      <td>375.377500</td>\n",
       "      <td>6.950000</td>\n",
       "      <td>17.025000</td>\n",
       "    </tr>\n",
       "    <tr>\n",
       "      <th>50%</th>\n",
       "      <td>0.256510</td>\n",
       "      <td>0.000000</td>\n",
       "      <td>9.690000</td>\n",
       "      <td>0.000000</td>\n",
       "      <td>0.538000</td>\n",
       "      <td>6.208500</td>\n",
       "      <td>77.500000</td>\n",
       "      <td>3.207450</td>\n",
       "      <td>5.000000</td>\n",
       "      <td>330.000000</td>\n",
       "      <td>19.050000</td>\n",
       "      <td>391.440000</td>\n",
       "      <td>11.360000</td>\n",
       "      <td>21.200000</td>\n",
       "    </tr>\n",
       "    <tr>\n",
       "      <th>75%</th>\n",
       "      <td>3.677083</td>\n",
       "      <td>12.500000</td>\n",
       "      <td>18.100000</td>\n",
       "      <td>0.000000</td>\n",
       "      <td>0.624000</td>\n",
       "      <td>6.623500</td>\n",
       "      <td>94.075000</td>\n",
       "      <td>5.188425</td>\n",
       "      <td>24.000000</td>\n",
       "      <td>666.000000</td>\n",
       "      <td>20.200000</td>\n",
       "      <td>396.225000</td>\n",
       "      <td>16.955000</td>\n",
       "      <td>25.000000</td>\n",
       "    </tr>\n",
       "    <tr>\n",
       "      <th>max</th>\n",
       "      <td>88.976200</td>\n",
       "      <td>100.000000</td>\n",
       "      <td>27.740000</td>\n",
       "      <td>1.000000</td>\n",
       "      <td>0.871000</td>\n",
       "      <td>8.780000</td>\n",
       "      <td>100.000000</td>\n",
       "      <td>12.126500</td>\n",
       "      <td>24.000000</td>\n",
       "      <td>711.000000</td>\n",
       "      <td>22.000000</td>\n",
       "      <td>396.900000</td>\n",
       "      <td>37.970000</td>\n",
       "      <td>50.000000</td>\n",
       "    </tr>\n",
       "  </tbody>\n",
       "</table>\n",
       "</div>"
      ],
      "text/plain": [
       "             CRIM          ZN       INDUS        CHAS         NOX          RM  \\\n",
       "count  506.000000  506.000000  506.000000  506.000000  506.000000  506.000000   \n",
       "mean     3.613524   11.363636   11.136779    0.069170    0.554695    6.284634   \n",
       "std      8.601545   23.322453    6.860353    0.253994    0.115878    0.702617   \n",
       "min      0.006320    0.000000    0.460000    0.000000    0.385000    3.561000   \n",
       "25%      0.082045    0.000000    5.190000    0.000000    0.449000    5.885500   \n",
       "50%      0.256510    0.000000    9.690000    0.000000    0.538000    6.208500   \n",
       "75%      3.677083   12.500000   18.100000    0.000000    0.624000    6.623500   \n",
       "max     88.976200  100.000000   27.740000    1.000000    0.871000    8.780000   \n",
       "\n",
       "              AGE         DIS         RAD         TAX     PTRATIO           B  \\\n",
       "count  506.000000  506.000000  506.000000  506.000000  506.000000  506.000000   \n",
       "mean    68.574901    3.795043    9.549407  408.237154   18.455534  356.674032   \n",
       "std     28.148861    2.105710    8.707259  168.537116    2.164946   91.294864   \n",
       "min      2.900000    1.129600    1.000000  187.000000   12.600000    0.320000   \n",
       "25%     45.025000    2.100175    4.000000  279.000000   17.400000  375.377500   \n",
       "50%     77.500000    3.207450    5.000000  330.000000   19.050000  391.440000   \n",
       "75%     94.075000    5.188425   24.000000  666.000000   20.200000  396.225000   \n",
       "max    100.000000   12.126500   24.000000  711.000000   22.000000  396.900000   \n",
       "\n",
       "            LSTAT      target  \n",
       "count  506.000000  506.000000  \n",
       "mean    12.653063   22.532806  \n",
       "std      7.141062    9.197104  \n",
       "min      1.730000    5.000000  \n",
       "25%      6.950000   17.025000  \n",
       "50%     11.360000   21.200000  \n",
       "75%     16.955000   25.000000  \n",
       "max     37.970000   50.000000  "
      ]
     },
     "execution_count": 5,
     "metadata": {},
     "output_type": "execute_result"
    }
   ],
   "source": [
    "dataset.describe()"
   ]
  },
  {
   "cell_type": "markdown",
   "id": "cd673129",
   "metadata": {},
   "source": [
    "Plotando os dados"
   ]
  },
  {
   "cell_type": "code",
   "execution_count": 6,
   "id": "ede8d3a4",
   "metadata": {},
   "outputs": [],
   "source": [
    "# Definindo o range dos valores de x e y\n",
    "xRange = [dataset['RM'].min(),dataset['RM'].max()]\n",
    "yRange = [dataset['target'].min(),dataset['target'].max()]"
   ]
  },
  {
   "cell_type": "code",
   "execution_count": 7,
   "id": "69e06a5b",
   "metadata": {},
   "outputs": [
    {
     "data": {
      "image/png": "[encoded data removed]",
      "text/plain": [
       "<Figure size 432x288 with 1 Axes>"
      ]
     },
     "metadata": {
      "needs_background": "light"
     },
     "output_type": "display_data"
    }
   ],
   "source": [
    "# Plot dos valores de x e y com a média\n",
    "scatter_plot = dataset.plot(kind = 'scatter', x = 'RM', y = 'target', xlim = xRange, ylim = yRange)\n",
    "\n",
    "# Cálculo da média\n",
    "meanY = scatter_plot.plot(xRange, [dataset['target'].mean(),dataset['target'].mean()], '--', color = 'red', linewidth = 1)\n",
    "meanX = scatter_plot.plot([dataset['RM'].mean(), dataset['RM'].mean()], yRange, '--', color = 'red', linewidth = 1)"
   ]
  },
  {
   "cell_type": "markdown",
   "id": "77f4c060",
   "metadata": {},
   "source": [
    "# Regressão Linear com StatsModels"
   ]
  },
  {
   "cell_type": "code",
   "execution_count": 8,
   "id": "6f63812b",
   "metadata": {},
   "outputs": [],
   "source": [
    "#Importando funções\n",
    "import statsmodels.api as sm"
   ]
  },
  {
   "cell_type": "code",
   "execution_count": 9,
   "id": "7a8542b9",
   "metadata": {},
   "outputs": [],
   "source": [
    "#Definindo as variáveis que serão utilizados\n",
    "y = dataset['target']\n",
    "x = dataset['RM']"
   ]
  },
  {
   "cell_type": "code",
   "execution_count": 10,
   "id": "18b6d7b6",
   "metadata": {},
   "outputs": [],
   "source": [
    "#Adicionando constante para criação do modelo (apenas aceita matriz)\n",
    "x = sm.add_constant(x)"
   ]
  },
  {
   "cell_type": "code",
   "execution_count": 11,
   "id": "86819f0f",
   "metadata": {},
   "outputs": [],
   "source": [
    "#Cria modelo\n",
    "modelo = sm.OLS(y,x)\n",
    "\n",
    "#Treina modelo\n",
    "modelov1 = modelo.fit()"
   ]
  },
  {
   "cell_type": "code",
   "execution_count": 12,
   "id": "8266581d",
   "metadata": {},
   "outputs": [
    {
     "name": "stdout",
     "output_type": "stream",
     "text": [
      "                            OLS Regression Results                            \n",
      "==============================================================================\n",
      "Dep. Variable:                 target   R-squared:                       0.484\n",
      "Model:                            OLS   Adj. R-squared:                  0.483\n",
      "Method:                 Least Squares   F-statistic:                     471.8\n",
      "Date:                Wed, 27 Apr 2022   Prob (F-statistic):           2.49e-74\n",
      "Time:                        11:24:38   Log-Likelihood:                -1673.1\n",
      "No. Observations:                 506   AIC:                             3350.\n",
      "Df Residuals:                     504   BIC:                             3359.\n",
      "Df Model:                           1                                         \n",
      "Covariance Type:            nonrobust                                         \n",
      "==============================================================================\n",
      "                 coef    std err          t      P>|t|      [0.025      0.975]\n",
      "------------------------------------------------------------------------------\n",
      "const        -34.6706      2.650    -13.084      0.000     -39.877     -29.465\n",
      "RM             9.1021      0.419     21.722      0.000       8.279       9.925\n",
      "==============================================================================\n",
      "Omnibus:                      102.585   Durbin-Watson:                   0.684\n",
      "Prob(Omnibus):                  0.000   Jarque-Bera (JB):              612.449\n",
      "Skew:                           0.726   Prob(JB):                    1.02e-133\n",
      "Kurtosis:                       8.190   Cond. No.                         58.4\n",
      "==============================================================================\n",
      "\n",
      "Notes:\n",
      "[1] Standard Errors assume that the covariance matrix of the errors is correctly specified.\n"
     ]
    }
   ],
   "source": [
    "print(modelov1.summary())"
   ]
  },
  {
   "cell_type": "code",
   "execution_count": 13,
   "id": "f3086ef9",
   "metadata": {},
   "outputs": [
    {
     "name": "stdout",
     "output_type": "stream",
     "text": [
      "const   -34.670621\n",
      "RM        9.102109\n",
      "dtype: float64\n"
     ]
    }
   ],
   "source": [
    "#Verificando parâmetros criados com o modelo\n",
    "print(modelov1.params)"
   ]
  },
  {
   "cell_type": "code",
   "execution_count": 14,
   "id": "76179ad9",
   "metadata": {},
   "outputs": [
    {
     "data": {
      "text/plain": [
       "0      25.175746\n",
       "1      23.774021\n",
       "2      30.728032\n",
       "3      29.025938\n",
       "4      30.382152\n",
       "         ...    \n",
       "501    25.339584\n",
       "502    21.034286\n",
       "503    28.825691\n",
       "504    27.169108\n",
       "505    20.215096\n",
       "Length: 506, dtype: float64"
      ]
     },
     "execution_count": 14,
     "metadata": {},
     "output_type": "execute_result"
    }
   ],
   "source": [
    "#Gerando valores previstos\n",
    "valPrevistos = modelov1.predict(x)\n",
    "valPrevistos"
   ]
  },
  {
   "cell_type": "markdown",
   "id": "5e3c3752",
   "metadata": {},
   "source": [
    "#### Gerando gráfico para ilustar a Regressão Linear"
   ]
  },
  {
   "cell_type": "code",
   "execution_count": 15,
   "id": "80c4ef2a",
   "metadata": {},
   "outputs": [],
   "source": [
    "# Range de valores para x e y\n",
    "xRange = [dataset['RM'].min(), dataset['RM'].max()]\n",
    "yRange = [dataset['target'].min(), dataset['target'].max()]"
   ]
  },
  {
   "cell_type": "code",
   "execution_count": 16,
   "id": "95fe4ff8",
   "metadata": {},
   "outputs": [
    {
     "data": {
      "image/png": "[encoded data removed]",
      "text/plain": [
       "<Figure size 432x288 with 1 Axes>"
      ]
     },
     "metadata": {
      "needs_background": "light"
     },
     "output_type": "display_data"
    }
   ],
   "source": [
    "# Primeira camada do Scatter Plot\n",
    "scatter_plot = dataset.plot(kind = 'scatter', x = 'RM', y = 'target', xlim = xRange, ylim = yRange)\n",
    "\n",
    "# Segunda camada do Scatter Plot (médias)\n",
    "meanY = scatter_plot.plot(xRange, [dataset['target'].mean(),dataset['target'].mean()], '--', color = 'red', linewidth = 1)\n",
    "meanX = scatter_plot.plot([dataset['RM'].mean(),dataset['RM'].mean()], yRange, '--', color = 'red', linewidth = 1)\n",
    "\n",
    "# Terceira camada do Scatter Plot (linha de regressão)\n",
    "regression_line = scatter_plot.plot(dataset['RM'], valPrevistos, '-', color = 'orange', linewidth = 2)"
   ]
  },
  {
   "cell_type": "markdown",
   "id": "3f2690b3",
   "metadata": {},
   "source": [
    "# Regressão Linear com Scikit-Learn"
   ]
  },
  {
   "cell_type": "code",
   "execution_count": 17,
   "id": "4f9e2ff2",
   "metadata": {},
   "outputs": [],
   "source": [
    "#Importa biblioteca\n",
    "from sklearn import linear_model"
   ]
  },
  {
   "cell_type": "code",
   "execution_count": 18,
   "id": "b81be4e7",
   "metadata": {},
   "outputs": [],
   "source": [
    "#Cria modelo\n",
    "modelov2 = linear_model.LinearRegression(normalize = False, fit_intercept = True)"
   ]
  },
  {
   "cell_type": "code",
   "execution_count": 19,
   "id": "a862ff09",
   "metadata": {},
   "outputs": [],
   "source": [
    "#Define X e Y\n",
    "num_observ = len(dataset)\n",
    "x = dataset['RM'].values.reshape((num_observ, 1))\n",
    "y = dataset['target'].values"
   ]
  },
  {
   "cell_type": "code",
   "execution_count": 20,
   "id": "9820d3f1",
   "metadata": {},
   "outputs": [
    {
     "data": {
      "text/plain": [
       "LinearRegression()"
      ]
     },
     "execution_count": 20,
     "metadata": {},
     "output_type": "execute_result"
    }
   ],
   "source": [
    "#Treina modelo\n",
    "modelov2.fit(x,y)"
   ]
  },
  {
   "cell_type": "code",
   "execution_count": 21,
   "id": "e37bdf0b",
   "metadata": {},
   "outputs": [
    {
     "name": "stdout",
     "output_type": "stream",
     "text": [
      "[9.10210898]\n",
      "-34.670620776438554\n"
     ]
    }
   ],
   "source": [
    "#Verificando parâmetros criados com o modelo\n",
    "print (modelov2.coef_)\n",
    "print (modelov2.intercept_)"
   ]
  },
  {
   "cell_type": "code",
   "execution_count": 22,
   "id": "8c752024",
   "metadata": {},
   "outputs": [
    {
     "name": "stdout",
     "output_type": "stream",
     "text": [
      "[25.17574577 23.77402099 30.72803225 29.02593787 30.38215211 23.85593997\n",
      " 20.05125842 21.50759586 16.5833549  19.97844155 23.3735282  20.02395209\n",
      " 18.93169901 19.47782555 20.81583557 18.43108302 19.35039603 19.85101202\n",
      " 14.99048582 17.45715736 16.02812625 19.6234593  21.23453259 18.23993873\n",
      " 19.25027283 16.29208741 18.23993873 20.36983223 24.44757706 26.07685456\n",
      " 17.32972783 20.59738496 19.48692766 17.22050253 20.81583557 19.33219181\n",
      " 18.49479778 18.57671676 19.63256141 25.35778795 29.26259271 26.95065703\n",
      " 21.48028953 21.86257811 20.57007863 17.04756245 17.99418179 20.21509638\n",
      " 14.47166561 16.31939374 19.60525508 20.98877564 24.5932108  19.92382889\n",
      " 18.9225969  31.31056723 23.42814085 27.36935404 21.26183891 19.27757916\n",
      " 17.58458688 19.63256141 24.09259481 26.87784015 29.99076143 22.58164472\n",
      " 18.0032839  18.83157581 16.24657686 18.89529058 23.73761256 19.58705086\n",
      " 20.53367019 22.17204981 22.42690886 22.54523628 22.48152152 21.21632837\n",
      " 22.05372239 18.79516738 26.55926634 25.57623857 22.69087002 21.46208531\n",
      " 23.4827535  25.67636177 20.07856475 21.0433883  29.10785685 29.7632087\n",
      " 23.73761256 23.62838725 23.96516528 21.86257811 22.20845825 25.63085122\n",
      " 21.42567687 38.77429659 36.50787146 32.83061943 26.55926634 27.05078022\n",
      " 23.62838725 21.18902204 21.46208531 18.58581887 18.44928724 21.09800095\n",
      " 24.25643277 22.02641607 21.71694436 26.45004103 19.15014963 20.77942714\n",
      " 22.25396879 19.28668126 21.54400429 20.1331774  18.77696316 17.49356579\n",
      " 18.75875894 19.97844155 19.58705086 18.63132942 18.84067792 19.81460358\n",
      " 16.41951693 17.14768565 23.86504208 16.63796755 24.11079902 22.90932064\n",
      " 23.32801765 18.32185771 17.73022063 22.99123962 19.41411079 24.07439059\n",
      " 18.64043153 21.31645157 21.52580007 11.0128642  14.50807405 15.09971113\n",
      "  9.95701956 21.12530728 16.55604857 10.16636806 12.5329164  16.27388319\n",
      " 21.05249041 14.51717616 10.94914944 17.2933194  21.11620517 21.32555368\n",
      " 13.31569777 28.52532188 20.5427723  24.58410869 22.21756036 33.49507338\n",
      " 36.34403349 41.55954194 18.6131252  20.86134612 37.50000134 18.82247371\n",
      " 22.84560588 23.60108092 18.80426949 18.84978003 16.04633047 23.72851045\n",
      " 18.65863574 24.91178461 20.12407529 22.80919744 27.76984683 28.86209991\n",
      " 36.00725546 21.2527368  30.45496898 25.06652047 16.33759795 21.33465578\n",
      " 36.60799466 27.05988233 25.0028057  30.72803225 28.59813875 26.66849165\n",
      " 30.66431749 27.2237203  25.43970694 37.00848745 31.65644737 30.01806775\n",
      " 31.53811995 28.81658937 30.2729268  21.41657477 34.59642857 36.80824105\n",
      " 38.45572278 18.94990323 22.90932064 17.96687546 20.52456809 13.97104962\n",
      " 19.57794875 14.51717616 18.18532608 23.35532398 14.58999303 21.59861695\n",
      " 18.9225969  25.78558708 19.49602977 23.33711976 28.59813875 21.43477898\n",
      " 27.94278691 25.56713646 40.56741206 44.74528008 38.51033543 30.52778586\n",
      " 35.28818885 24.96639727 19.76909304 32.79421099 41.2136618  40.39447199\n",
      " 26.55016423 20.72481448 25.68546388 32.30269711 24.32014753 25.45791115\n",
      " 28.10662487 20.80673346 23.20058813 23.51916194 16.23747476 16.34670006\n",
      " 20.92506088 21.99910974 23.8832463  26.47734736 24.37476018 23.92875684\n",
      " 28.65275141 40.5036973  20.92506088 18.8133716  33.17649957 44.5541358\n",
      " 32.07514438 27.60600887 30.89187022 33.77723876 41.76889045 32.02053173\n",
      " 30.91917654 15.93710516 29.17157162 40.84957744 33.32213331 19.21386439\n",
      " 18.63132942 22.12653927 24.83896774 35.3336994  26.84143172 27.71523418\n",
      " 31.47440519 27.46037513 24.32924964 27.3329456  36.50787146 28.7528746\n",
      " 34.91500238 37.44538868 29.84512768 24.06528848 22.03551818 21.84437389\n",
      " 22.80919744 25.08472469 27.77894894 30.39125422 25.67636177 21.09800095\n",
      " 20.02395209 26.113263   24.93909094 18.03059022 23.08226071 29.41732856\n",
      " 27.86997003 25.31227741 24.44757706 28.88030413 31.19223981 25.54893224\n",
      " 32.86702786 27.66972364 25.72187231 19.68717406 10.59416719 21.05249041\n",
      " 20.15138162 22.3631941  25.1029289  17.25691096 19.15925174 17.95777335\n",
      " 23.41903874 20.97057143 23.81953154 23.36442609 20.31521958 17.28421729\n",
      " 23.71940834 23.86504208 22.78189111 20.69750816 18.74055473 22.9730354\n",
      " 21.2527368  17.26601307 20.22419849 22.81829955 22.76368689 20.27881114\n",
      " 18.74965683 18.98631167 20.47905754 19.80550148 19.65076562 31.23775036\n",
      " 24.85717196 26.27710096 27.89727636 20.06946264 19.01361799 24.63872134\n",
      " 25.72187231 28.48891344 24.40206651 25.21215421 18.88618847 26.56836845\n",
      " 16.87462238 19.35949814 21.87168021 23.53736616 21.09800095 20.96146932\n",
      " 23.56467249 22.22666246 14.13488758 18.14891764 45.24589608 -2.25801069\n",
      " 10.5031461   0.49082622 10.56686086 26.15877354 29.18977584 21.90808865\n",
      " 18.80426949  9.98432589  2.99390619 31.8931022  25.84930184 27.16910764\n",
      " 23.40083452 21.97180341 28.7528746  24.90268251 15.71865454 15.5730208\n",
      "  5.08739125 13.36120832  7.6723902  10.83992413  9.74767105 14.38974663\n",
      " 17.32972783 20.40624067 11.16760005 21.69874014 18.9134948  24.22912644\n",
      " 23.62838725 17.63919954 14.9631795  18.59492098 19.82370569 23.06405649\n",
      " 23.61928514 14.01656016 15.673144   17.05666456  2.99390619 16.37400639\n",
      " 16.45592537 27.69702996 17.73022063 25.92211871  7.45393959 12.25075102\n",
      "  6.46180971 23.89234841 27.05988233 13.60696526 19.55064242 27.44217091\n",
      " 23.6829999  19.99664576 16.73809075 20.87955034 15.9826157  18.99541378\n",
      " 18.45838935 21.78065912 21.69874014 23.40083452 23.10956704 27.52408989\n",
      " 23.81042943 23.91055263 21.83527178 25.66725966 24.13810535 21.32555368\n",
      " 19.35039603 16.54694646 18.28544928 23.63748936 21.93539498 24.35655597\n",
      " 18.6131252  24.11990113 23.04585227 22.22666246 21.62592327 23.73761256\n",
      " 26.75951274 25.90391449 22.64535948 32.62127092 26.56836845 24.72064033\n",
      " 19.7235825  19.35949814 22.68176791 20.67930394 26.32261151 23.36442609\n",
      " 22.82740166 24.61141502 21.84437389 17.74842485 19.50513188 19.96933944\n",
      " 19.26847705 17.32972783 21.46208531 22.02641607 23.91965474 28.86209991\n",
      " 14.72652466 21.41657477 24.34745386 13.60696526 21.62592327 22.02641607\n",
      " 22.14474348 26.76861485 29.59937074 17.77573117 18.76786105 22.78189111\n",
      " 20.97967353 19.07733276 14.97228161 14.60819725 11.68642026 19.78729726\n",
      " 19.78729726 17.27511518 19.26847705 16.93833715 14.38974663 18.06699866\n",
      " 20.11497318 16.01902414 20.18779005 25.33958374 21.03428619 28.82569148\n",
      " 27.16910764 20.21509638]\n"
     ]
    }
   ],
   "source": [
    "#Gerando valores previstos\n",
    "print (modelov2.predict(x))"
   ]
  },
  {
   "cell_type": "markdown",
   "id": "1fc1c5b2",
   "metadata": {},
   "source": [
    "# Regressão Linear Múltipla"
   ]
  },
  {
   "cell_type": "code",
   "execution_count": 23,
   "id": "ba41a980",
   "metadata": {},
   "outputs": [],
   "source": [
    "#Importa bibliotecas\n",
    "import numpy as np\n",
    "import pandas as pd\n",
    "import matplotlib.pyplot as plt\n",
    "import matplotlib as mpl\n",
    "from sklearn import linear_model\n",
    "from sklearn.metrics import r2_score\n",
    "from sklearn.pipeline import make_pipeline\n",
    "from sklearn.preprocessing import StandardScaler\n",
    "import statsmodels.api as sm\n",
    "import statsmodels.formula.api as smf\n",
    "\n",
    "import warnings\n",
    "warnings.filterwarnings(\"ignore\")\n",
    "\n",
    "%matplotlib inline "
   ]
  },
  {
   "cell_type": "code",
   "execution_count": 24,
   "id": "d62e231b",
   "metadata": {},
   "outputs": [],
   "source": [
    "#Carregando dados para DF\n",
    "dataset2 = pd.DataFrame(boston.data, columns = boston.feature_names)\n",
    "dataset2['target'] = boston.target"
   ]
  },
  {
   "cell_type": "markdown",
   "id": "65b99e7d",
   "metadata": {},
   "source": [
    "## Criando modelo com todas variáveis"
   ]
  },
  {
   "cell_type": "code",
   "execution_count": 25,
   "id": "6fb09948",
   "metadata": {},
   "outputs": [],
   "source": [
    "#Definindo as variáveis que serão utilizados\n",
    "y = dataset2['target']\n",
    "x = dataset2.iloc[:,:-1]"
   ]
  },
  {
   "cell_type": "code",
   "execution_count": 26,
   "id": "52ecb00a",
   "metadata": {},
   "outputs": [],
   "source": [
    "#Adiciona constante\n",
    "xc = sm.add_constant(x)"
   ]
  },
  {
   "cell_type": "code",
   "execution_count": 27,
   "id": "0f55367e",
   "metadata": {},
   "outputs": [],
   "source": [
    "#Cria modelo\n",
    "modelo2 = sm.OLS(y, xc)"
   ]
  },
  {
   "cell_type": "code",
   "execution_count": 28,
   "id": "31ad4208",
   "metadata": {},
   "outputs": [],
   "source": [
    "#Treina modelo\n",
    "modelov3 = modelo2.fit()"
   ]
  },
  {
   "cell_type": "code",
   "execution_count": 29,
   "id": "33c827ad",
   "metadata": {},
   "outputs": [
    {
     "data": {
      "text/html": [
       "<table class=\"simpletable\">\n",
       "<caption>OLS Regression Results</caption>\n",
       "<tr>\n",
       "  <th>Dep. Variable:</th>         <td>target</td>      <th>  R-squared:         </th> <td>   0.741</td> \n",
       "</tr>\n",
       "<tr>\n",
       "  <th>Model:</th>                   <td>OLS</td>       <th>  Adj. R-squared:    </th> <td>   0.734</td> \n",
       "</tr>\n",
       "<tr>\n",
       "  <th>Method:</th>             <td>Least Squares</td>  <th>  F-statistic:       </th> <td>   108.1</td> \n",
       "</tr>\n",
       "<tr>\n",
       "  <th>Date:</th>             <td>Wed, 27 Apr 2022</td> <th>  Prob (F-statistic):</th> <td>6.72e-135</td>\n",
       "</tr>\n",
       "<tr>\n",
       "  <th>Time:</th>                 <td>11:34:21</td>     <th>  Log-Likelihood:    </th> <td> -1498.8</td> \n",
       "</tr>\n",
       "<tr>\n",
       "  <th>No. Observations:</th>      <td>   506</td>      <th>  AIC:               </th> <td>   3026.</td> \n",
       "</tr>\n",
       "<tr>\n",
       "  <th>Df Residuals:</th>          <td>   492</td>      <th>  BIC:               </th> <td>   3085.</td> \n",
       "</tr>\n",
       "<tr>\n",
       "  <th>Df Model:</th>              <td>    13</td>      <th>                     </th>     <td> </td>    \n",
       "</tr>\n",
       "<tr>\n",
       "  <th>Covariance Type:</th>      <td>nonrobust</td>    <th>                     </th>     <td> </td>    \n",
       "</tr>\n",
       "</table>\n",
       "<table class=\"simpletable\">\n",
       "<tr>\n",
       "     <td></td>        <th>coef</th>     <th>std err</th>      <th>t</th>      <th>P>|t|</th>  <th>[0.025</th>    <th>0.975]</th>  \n",
       "</tr>\n",
       "<tr>\n",
       "  <th>const</th>   <td>   36.4595</td> <td>    5.103</td> <td>    7.144</td> <td> 0.000</td> <td>   26.432</td> <td>   46.487</td>\n",
       "</tr>\n",
       "<tr>\n",
       "  <th>CRIM</th>    <td>   -0.1080</td> <td>    0.033</td> <td>   -3.287</td> <td> 0.001</td> <td>   -0.173</td> <td>   -0.043</td>\n",
       "</tr>\n",
       "<tr>\n",
       "  <th>ZN</th>      <td>    0.0464</td> <td>    0.014</td> <td>    3.382</td> <td> 0.001</td> <td>    0.019</td> <td>    0.073</td>\n",
       "</tr>\n",
       "<tr>\n",
       "  <th>INDUS</th>   <td>    0.0206</td> <td>    0.061</td> <td>    0.334</td> <td> 0.738</td> <td>   -0.100</td> <td>    0.141</td>\n",
       "</tr>\n",
       "<tr>\n",
       "  <th>CHAS</th>    <td>    2.6867</td> <td>    0.862</td> <td>    3.118</td> <td> 0.002</td> <td>    0.994</td> <td>    4.380</td>\n",
       "</tr>\n",
       "<tr>\n",
       "  <th>NOX</th>     <td>  -17.7666</td> <td>    3.820</td> <td>   -4.651</td> <td> 0.000</td> <td>  -25.272</td> <td>  -10.262</td>\n",
       "</tr>\n",
       "<tr>\n",
       "  <th>RM</th>      <td>    3.8099</td> <td>    0.418</td> <td>    9.116</td> <td> 0.000</td> <td>    2.989</td> <td>    4.631</td>\n",
       "</tr>\n",
       "<tr>\n",
       "  <th>AGE</th>     <td>    0.0007</td> <td>    0.013</td> <td>    0.052</td> <td> 0.958</td> <td>   -0.025</td> <td>    0.027</td>\n",
       "</tr>\n",
       "<tr>\n",
       "  <th>DIS</th>     <td>   -1.4756</td> <td>    0.199</td> <td>   -7.398</td> <td> 0.000</td> <td>   -1.867</td> <td>   -1.084</td>\n",
       "</tr>\n",
       "<tr>\n",
       "  <th>RAD</th>     <td>    0.3060</td> <td>    0.066</td> <td>    4.613</td> <td> 0.000</td> <td>    0.176</td> <td>    0.436</td>\n",
       "</tr>\n",
       "<tr>\n",
       "  <th>TAX</th>     <td>   -0.0123</td> <td>    0.004</td> <td>   -3.280</td> <td> 0.001</td> <td>   -0.020</td> <td>   -0.005</td>\n",
       "</tr>\n",
       "<tr>\n",
       "  <th>PTRATIO</th> <td>   -0.9527</td> <td>    0.131</td> <td>   -7.283</td> <td> 0.000</td> <td>   -1.210</td> <td>   -0.696</td>\n",
       "</tr>\n",
       "<tr>\n",
       "  <th>B</th>       <td>    0.0093</td> <td>    0.003</td> <td>    3.467</td> <td> 0.001</td> <td>    0.004</td> <td>    0.015</td>\n",
       "</tr>\n",
       "<tr>\n",
       "  <th>LSTAT</th>   <td>   -0.5248</td> <td>    0.051</td> <td>  -10.347</td> <td> 0.000</td> <td>   -0.624</td> <td>   -0.425</td>\n",
       "</tr>\n",
       "</table>\n",
       "<table class=\"simpletable\">\n",
       "<tr>\n",
       "  <th>Omnibus:</th>       <td>178.041</td> <th>  Durbin-Watson:     </th> <td>   1.078</td> \n",
       "</tr>\n",
       "<tr>\n",
       "  <th>Prob(Omnibus):</th> <td> 0.000</td>  <th>  Jarque-Bera (JB):  </th> <td> 783.126</td> \n",
       "</tr>\n",
       "<tr>\n",
       "  <th>Skew:</th>          <td> 1.521</td>  <th>  Prob(JB):          </th> <td>8.84e-171</td>\n",
       "</tr>\n",
       "<tr>\n",
       "  <th>Kurtosis:</th>      <td> 8.281</td>  <th>  Cond. No.          </th> <td>1.51e+04</td> \n",
       "</tr>\n",
       "</table><br/><br/>Notes:<br/>[1] Standard Errors assume that the covariance matrix of the errors is correctly specified.<br/>[2] The condition number is large, 1.51e+04. This might indicate that there are<br/>strong multicollinearity or other numerical problems."
      ],
      "text/plain": [
       "<class 'statsmodels.iolib.summary.Summary'>\n",
       "\"\"\"\n",
       "                            OLS Regression Results                            \n",
       "==============================================================================\n",
       "Dep. Variable:                 target   R-squared:                       0.741\n",
       "Model:                            OLS   Adj. R-squared:                  0.734\n",
       "Method:                 Least Squares   F-statistic:                     108.1\n",
       "Date:                Wed, 27 Apr 2022   Prob (F-statistic):          6.72e-135\n",
       "Time:                        11:34:21   Log-Likelihood:                -1498.8\n",
       "No. Observations:                 506   AIC:                             3026.\n",
       "Df Residuals:                     492   BIC:                             3085.\n",
       "Df Model:                          13                                         \n",
       "Covariance Type:            nonrobust                                         \n",
       "==============================================================================\n",
       "                 coef    std err          t      P>|t|      [0.025      0.975]\n",
       "------------------------------------------------------------------------------\n",
       "const         36.4595      5.103      7.144      0.000      26.432      46.487\n",
       "CRIM          -0.1080      0.033     -3.287      0.001      -0.173      -0.043\n",
       "ZN             0.0464      0.014      3.382      0.001       0.019       0.073\n",
       "INDUS          0.0206      0.061      0.334      0.738      -0.100       0.141\n",
       "CHAS           2.6867      0.862      3.118      0.002       0.994       4.380\n",
       "NOX          -17.7666      3.820     -4.651      0.000     -25.272     -10.262\n",
       "RM             3.8099      0.418      9.116      0.000       2.989       4.631\n",
       "AGE            0.0007      0.013      0.052      0.958      -0.025       0.027\n",
       "DIS           -1.4756      0.199     -7.398      0.000      -1.867      -1.084\n",
       "RAD            0.3060      0.066      4.613      0.000       0.176       0.436\n",
       "TAX           -0.0123      0.004     -3.280      0.001      -0.020      -0.005\n",
       "PTRATIO       -0.9527      0.131     -7.283      0.000      -1.210      -0.696\n",
       "B              0.0093      0.003      3.467      0.001       0.004       0.015\n",
       "LSTAT         -0.5248      0.051    -10.347      0.000      -0.624      -0.425\n",
       "==============================================================================\n",
       "Omnibus:                      178.041   Durbin-Watson:                   1.078\n",
       "Prob(Omnibus):                  0.000   Jarque-Bera (JB):              783.126\n",
       "Skew:                           1.521   Prob(JB):                    8.84e-171\n",
       "Kurtosis:                       8.281   Cond. No.                     1.51e+04\n",
       "==============================================================================\n",
       "\n",
       "Notes:\n",
       "[1] Standard Errors assume that the covariance matrix of the errors is correctly specified.\n",
       "[2] The condition number is large, 1.51e+04. This might indicate that there are\n",
       "strong multicollinearity or other numerical problems.\n",
       "\"\"\""
      ]
     },
     "execution_count": 29,
     "metadata": {},
     "output_type": "execute_result"
    }
   ],
   "source": [
    "#Verifica parâmetros do modelo\n",
    "modelov3.summary()"
   ]
  },
  {
   "cell_type": "code",
   "execution_count": 42,
   "id": "c5322f88",
   "metadata": {},
   "outputs": [
    {
     "data": {
      "image/png": "[encoded data removed]",
      "text/plain": [
       "<Figure size 432x288 with 2 Axes>"
      ]
     },
     "metadata": {
      "needs_background": "light"
     },
     "output_type": "display_data"
    }
   ],
   "source": [
    "#Criando um Correlation Plot\n",
    "R = np.corrcoef(x, rowvar = 0)\n",
    "R[np.where(np.abs(R) < 0.5)] = 0.0\n",
    "heatmap = plt.pcolor(R, cmap = mpl.cm.winter, alpha = 0.8)\n",
    "heatmap.axes.set_frame_on(False)\n",
    "heatmap.axes.set_yticks(np.arange(R.shape[0]) + 0.5, minor = False)\n",
    "heatmap.axes.set_xticks(np.arange(R.shape[1]) + 0.5, minor = False)\n",
    "heatmap.axes.set_xticklabels(x, minor = False)\n",
    "plt.xticks(rotation=90)\n",
    "heatmap.axes.set_yticklabels(x, minor = False)\n",
    "plt.tick_params(axis = 'both', which = 'both', bottom = 'off', top = 'off', left = 'off', right = 'off') \n",
    "plt.colorbar()\n",
    "plt.show()"
   ]
  },
  {
   "cell_type": "markdown",
   "id": "fccb92df",
   "metadata": {},
   "source": [
    "As variáveis TAX e RAD apresentam um alto valor de corelação entre elas, podendo gerar uma interferência no modelo.\n",
    "Para evitar utilizar variáveis tendenciosas, será aplicado Feature Scaling e depois verificado a importância de cada variável no resultado do target para criar um modelo mais genérico."
   ]
  },
  {
   "cell_type": "markdown",
   "id": "5a71de49",
   "metadata": {},
   "source": [
    "## Importância das variáveis"
   ]
  },
  {
   "cell_type": "code",
   "execution_count": 43,
   "id": "edd8b5a7",
   "metadata": {},
   "outputs": [],
   "source": [
    "#Criando um modelo com todas as variáveis\n",
    "modelo3 = linear_model.LinearRegression(normalize = False, fit_intercept = True)"
   ]
  },
  {
   "cell_type": "code",
   "execution_count": 44,
   "id": "6648379f",
   "metadata": {},
   "outputs": [],
   "source": [
    "#Padronização dos dados\n",
    "standardization = StandardScaler()\n",
    "Stand_coef_linear_reg = make_pipeline(standardization, modelo3)"
   ]
  },
  {
   "cell_type": "code",
   "execution_count": 45,
   "id": "e6add383",
   "metadata": {},
   "outputs": [
    {
     "data": {
      "text/plain": [
       "Pipeline(steps=[('standardscaler', StandardScaler()),\n",
       "                ('linearregression', LinearRegression())])"
      ]
     },
     "execution_count": 45,
     "metadata": {},
     "output_type": "execute_result"
    }
   ],
   "source": [
    "#Treinando modelo\n",
    "Stand_coef_linear_reg.fit(x,y)"
   ]
  },
  {
   "cell_type": "code",
   "execution_count": 46,
   "id": "daa7f064",
   "metadata": {},
   "outputs": [
    {
     "name": "stdout",
     "output_type": "stream",
     "text": [
      " 3.744 LSTAT\n",
      " 3.104 DIS\n",
      " 2.674 RM\n",
      " 2.662 RAD\n",
      " 2.077 TAX\n",
      " 2.061 PTRATIO\n",
      " 2.057 NOX\n",
      " 1.082 ZN\n",
      " 0.928 CRIM\n",
      " 0.849 B\n",
      " 0.682 CHAS\n",
      " 0.141 INDUS\n",
      " 0.019 AGE\n"
     ]
    }
   ],
   "source": [
    "#Verificando os valores de importância das variáveis\n",
    "for coef, var in sorted(zip(map(abs, Stand_coef_linear_reg.steps[1][1].coef_), dataset.columns[:-1]), reverse = True):\n",
    "    print (\"%6.3f %s\" % (coef,var))"
   ]
  },
  {
   "cell_type": "markdown",
   "id": "5342c306",
   "metadata": {},
   "source": [
    "### Utilizando o R² para verificar a importância"
   ]
  },
  {
   "cell_type": "code",
   "execution_count": 52,
   "id": "94d46081",
   "metadata": {},
   "outputs": [],
   "source": [
    "modelo4 = linear_model.LinearRegression(normalize = False, fit_intercept = True)"
   ]
  },
  {
   "cell_type": "code",
   "execution_count": 55,
   "id": "363ef00f",
   "metadata": {},
   "outputs": [],
   "source": [
    "#Verifica o impacto no R² de cada variável\n",
    "def r2_est(x,y):\n",
    "    return r2_score(y, modelo4.fit(x,y).predict(x))"
   ]
  },
  {
   "cell_type": "code",
   "execution_count": 56,
   "id": "4067cfe8",
   "metadata": {},
   "outputs": [
    {
     "name": "stdout",
     "output_type": "stream",
     "text": [
      " 0.056 LSTAT\n",
      " 0.044 RM\n",
      " 0.029 DIS\n",
      " 0.028 PTRATIO\n",
      " 0.011 NOX\n",
      " 0.011 RAD\n",
      " 0.006 B\n",
      " 0.006 ZN\n",
      " 0.006 CRIM\n",
      " 0.006 TAX\n",
      " 0.005 CHAS\n",
      " 0.000 INDUS\n",
      " 0.000 AGE\n"
     ]
    }
   ],
   "source": [
    "#Imprime os impactos\n",
    "r2_impact = list()\n",
    "for j in range(x.shape[1]):\n",
    "    selection = [i for i in range(x.shape[1]) if i!=j]\n",
    "    r2_impact.append(((r2_est(x,y) - r2_est(x.values[:,selection],y)), dataset.columns[j]))\n",
    "    \n",
    "for imp, varname in sorted(r2_impact, reverse = True):\n",
    "    print ('%6.3f %s' %  (imp, varname))"
   ]
  },
  {
   "cell_type": "markdown",
   "id": "8065322c",
   "metadata": {},
   "source": [
    "Dessa forma, pode ser criado um modelo utilizando apenas as variáveis LSTAT, RM, DIS e PTRATIO para um novo modelo de regressão, sendo que são as variáveis que mais impactam no R²"
   ]
  },
  {
   "cell_type": "markdown",
   "id": "8ec56798",
   "metadata": {},
   "source": [
    "### Criando modelo Regressão Múltipla com as Variáveis Selecionadas"
   ]
  },
  {
   "cell_type": "code",
   "execution_count": 57,
   "id": "25762af0",
   "metadata": {},
   "outputs": [],
   "source": [
    "#Importando bibliotecas\n",
    "from sklearn.model_selection import train_test_split\n",
    "from sklearn.linear_model import LinearRegression\n",
    "from sklearn.metrics import r2_score"
   ]
  },
  {
   "cell_type": "code",
   "execution_count": 58,
   "id": "b6d616f0",
   "metadata": {},
   "outputs": [],
   "source": [
    "#Definindo x e y\n",
    "x = dataset[['LSTAT', 'RM', 'DIS', 'PTRATIO']]\n",
    "y = dataset['target'].values"
   ]
  },
  {
   "cell_type": "code",
   "execution_count": 59,
   "id": "ce41358c",
   "metadata": {},
   "outputs": [],
   "source": [
    "#Divisão dos dados em treino e teste\n",
    "x_train, x_test, y_train, y_test = train_test_split(x, y, test_size=0.3, random_state = 42)"
   ]
  },
  {
   "cell_type": "code",
   "execution_count": 60,
   "id": "2d10e26e",
   "metadata": {},
   "outputs": [],
   "source": [
    "#Criando modelo\n",
    "modelo5 = LinearRegression(normalize = False, fit_intercept = True)"
   ]
  },
  {
   "cell_type": "code",
   "execution_count": 61,
   "id": "f595e115",
   "metadata": {},
   "outputs": [],
   "source": [
    "#Treinando modelo\n",
    "modelov5 = modelo5.fit(x_train, y_train)"
   ]
  },
  {
   "cell_type": "code",
   "execution_count": 63,
   "id": "56549903",
   "metadata": {},
   "outputs": [
    {
     "data": {
      "text/plain": [
       "0.661383670138217"
      ]
     },
     "execution_count": 63,
     "metadata": {},
     "output_type": "execute_result"
    }
   ],
   "source": [
    "#Calcula o r²\n",
    "r2_score(y_test, modelov5.fit(x_train, y_train).predict(x_test))"
   ]
  },
  {
   "cell_type": "markdown",
   "id": "f6c3cd8e",
   "metadata": {},
   "source": [
    "Para fazer novas previsões, basta alterar os valores das 4 variáveis utilizadas:"
   ]
  },
  {
   "cell_type": "code",
   "execution_count": 67,
   "id": "231c7393",
   "metadata": {},
   "outputs": [
    {
     "name": "stdout",
     "output_type": "stream",
     "text": [
      "Taxa Média de Ocupação: [35.54034071]\n"
     ]
    }
   ],
   "source": [
    "#Novos dados - Alterar para novas previsões\n",
    "LSTAT = 3\n",
    "RM = 6\n",
    "DIS = 4\n",
    "PTRATIO = 10\n",
    "\n",
    "#Lista com os valores das variáveis\n",
    "novosDados = [LSTAT, RM, DIS, PTRATIO]\n",
    "\n",
    "# Reshape\n",
    "Xp = np.array(novosDados).reshape(1, -1)\n",
    "\n",
    "# Previsão\n",
    "print(\"Taxa Média de Ocupação:\", modelov5.predict(Xp))"
   ]
  },
  {
   "cell_type": "markdown",
   "id": "e1d209df",
   "metadata": {},
   "source": [
    "#### Todo código foi construído no curso de Machine Learning da Formação Cientista de Dados da Data Science Academy, durante o capítulo 5 - Regressão Linear."
   ]
  }
 ],
 "metadata": {
  "kernelspec": {
   "display_name": "Python 3 (ipykernel)",
   "language": "python",
   "name": "python3"
  },
  "language_info": {
   "codemirror_mode": {
    "name": "ipython",
    "version": 3
   },
   "file_extension": ".py",
   "mimetype": "text/x-python",
   "name": "python",
   "nbconvert_exporter": "python",
   "pygments_lexer": "ipython3",
   "version": "3.9.7"
  }
 },
 "nbformat": 4,
 "nbformat_minor": 5
}
